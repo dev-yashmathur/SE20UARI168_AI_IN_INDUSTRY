{
  "cells": [
    {
      "cell_type": "code",
      "execution_count": 2,
      "metadata": {},
      "outputs": [
        {
          "name": "stdout",
          "output_type": "stream",
          "text": [
            "Collecting gdown\n",
            "  Downloading gdown-4.7.1-py3-none-any.whl (15 kB)\n",
            "Collecting filelock (from gdown)\n",
            "  Downloading filelock-3.12.3-py3-none-any.whl (11 kB)\n",
            "Requirement already satisfied: requests[socks] in /Library/Frameworks/Python.framework/Versions/3.11/lib/python3.11/site-packages (from gdown) (2.28.2)\n",
            "Requirement already satisfied: six in /Users/yash/Library/Python/3.11/lib/python/site-packages (from gdown) (1.16.0)\n",
            "Requirement already satisfied: tqdm in /Library/Frameworks/Python.framework/Versions/3.11/lib/python3.11/site-packages (from gdown) (4.65.0)\n",
            "Requirement already satisfied: beautifulsoup4 in /Library/Frameworks/Python.framework/Versions/3.11/lib/python3.11/site-packages (from gdown) (4.12.2)\n",
            "Requirement already satisfied: soupsieve>1.2 in /Library/Frameworks/Python.framework/Versions/3.11/lib/python3.11/site-packages (from beautifulsoup4->gdown) (2.4.1)\n",
            "Requirement already satisfied: charset-normalizer<4,>=2 in /Library/Frameworks/Python.framework/Versions/3.11/lib/python3.11/site-packages (from requests[socks]->gdown) (3.1.0)\n",
            "Requirement already satisfied: idna<4,>=2.5 in /Library/Frameworks/Python.framework/Versions/3.11/lib/python3.11/site-packages (from requests[socks]->gdown) (3.4)\n",
            "Requirement already satisfied: urllib3<1.27,>=1.21.1 in /Library/Frameworks/Python.framework/Versions/3.11/lib/python3.11/site-packages (from requests[socks]->gdown) (1.26.15)\n",
            "Requirement already satisfied: certifi>=2017.4.17 in /Library/Frameworks/Python.framework/Versions/3.11/lib/python3.11/site-packages (from requests[socks]->gdown) (2023.5.7)\n",
            "Collecting PySocks!=1.5.7,>=1.5.6 (from requests[socks]->gdown)\n",
            "  Downloading PySocks-1.7.1-py3-none-any.whl (16 kB)\n",
            "Installing collected packages: PySocks, filelock, gdown\n",
            "Successfully installed PySocks-1.7.1 filelock-3.12.3 gdown-4.7.1\n",
            "\n",
            "\u001b[1m[\u001b[0m\u001b[34;49mnotice\u001b[0m\u001b[1;39;49m]\u001b[0m\u001b[39;49m A new release of pip is available: \u001b[0m\u001b[31;49m23.1.2\u001b[0m\u001b[39;49m -> \u001b[0m\u001b[32;49m23.2.1\u001b[0m\n",
            "\u001b[1m[\u001b[0m\u001b[34;49mnotice\u001b[0m\u001b[1;39;49m]\u001b[0m\u001b[39;49m To update, run: \u001b[0m\u001b[32;49mpip install --upgrade pip\u001b[0m\n"
          ]
        }
      ],
      "source": [
        "!pip3 install gdown"
      ]
    },
    {
      "cell_type": "code",
      "execution_count": 3,
      "metadata": {
        "colab": {
          "base_uri": "https://localhost:8080/"
        },
        "id": "KON6j-RXIGXd",
        "outputId": "363753f1-b516-40f5-887e-ab1433862d25"
      },
      "outputs": [
        {
          "name": "stdout",
          "output_type": "stream",
          "text": [
            "Downloading...\n",
            "From: https://github.com/AlexeyAB/darknet/releases/download/darknet_yolo_v3_optimal/yolov4.weights\n",
            "To: /Users/yash/Accademic/AI In Industry/SE20UARI168_AI_IN_INDUSTRY/SE20UARI168_YoloHumans/yolov4.weights\n",
            "100%|█████████████████████████████████████████| 258M/258M [41:41<00:00, 103kB/s]\n"
          ]
        }
      ],
      "source": [
        "!gdown https://github.com/AlexeyAB/darknet/releases/download/darknet_yolo_v3_optimal/yolov4.weights  ## yolov4 weights"
      ]
    },
    {
      "cell_type": "code",
      "execution_count": 4,
      "metadata": {
        "colab": {
          "base_uri": "https://localhost:8080/"
        },
        "id": "M7lSJFGAJEcY",
        "outputId": "665167cc-6145-4b8d-b5f7-e6754d7d8988"
      },
      "outputs": [
        {
          "name": "stdout",
          "output_type": "stream",
          "text": [
            "Downloading...\n",
            "From: https://raw.githubusercontent.com/Tianxiaomo/pytorch-YOLOv4/master/cfg/yolov4.cfg\n",
            "To: /Users/yash/Accademic/AI In Industry/SE20UARI168_AI_IN_INDUSTRY/SE20UARI168_YoloHumans/yolov4.cfg\n",
            "12.2kB [00:00, 29.3MB/s]                                                        \n"
          ]
        }
      ],
      "source": [
        "!gdown https://raw.githubusercontent.com/Tianxiaomo/pytorch-YOLOv4/master/cfg/yolov4.cfg ##yolov4 cfg"
      ]
    },
    {
      "cell_type": "code",
      "execution_count": 5,
      "metadata": {
        "colab": {
          "base_uri": "https://localhost:8080/"
        },
        "id": "RUawRy5aJL7i",
        "outputId": "ec4f8c90-1f74-4c7d-b819-1f40e408d7ae"
      },
      "outputs": [
        {
          "name": "stdout",
          "output_type": "stream",
          "text": [
            "Downloading...\n",
            "From: https://raw.githubusercontent.com/pjreddie/darknet/master/data/coco.names\n",
            "To: /Users/yash/Accademic/AI In Industry/SE20UARI168_AI_IN_INDUSTRY/SE20UARI168_YoloHumans/coco.names\n",
            "625B [00:00, 1.50MB/s]                                                          \n"
          ]
        }
      ],
      "source": [
        "!gdown https://raw.githubusercontent.com/pjreddie/darknet/master/data/coco.names ##coco names"
      ]
    },
    {
      "cell_type": "code",
      "execution_count": null,
      "metadata": {
        "colab": {
          "base_uri": "https://localhost:8080/",
          "height": 617
        },
        "id": "cjWMxDfTgWWP",
        "outputId": "499bd7fa-17c7-4154-a5d5-e33837c405f4"
      },
      "outputs": [],
      "source": [
        "import cv2\n",
        "import time\n",
        "import numpy as np\n",
        "from google.colab.patches import cv2_imshow\n",
        "\n",
        "confidence = 0.6\n",
        "Nms= 0.3\n",
        "class_names = []\n",
        "with open(\"coco.names\", \"r\") as f:\n",
        "  class_names = [cname.strip() for cname in f.readlines()]\n",
        "img = cv2.imread(\"img1.jpeg\")\n",
        "arc = cv2.dnn.readNet(\"yolov4.weights\",\"yolov4.cfg\")\n",
        "arc.setPreferableBackend(cv2.dnn.DNN_BACKEND_CUDA)\n",
        "arc.setPreferableTarget(cv2.dnn.DNN_TARGET_CUDA_FP16)\n",
        "model = cv2.dnn_DetectionModel(arc)\n",
        "model.setInputParams(size=(640,640), scale=1/255, swapRB=True)\n",
        "x =time.time()\n",
        "classes, scores, boxes = model.detect(img, confidence, Nms)\n",
        "for (classid, score, box) in zip(classes, scores, boxes):\n",
        "      if classid == 0 or class_names[classid] == \"person\": #0 is the classid indexing people\n",
        "        label = \"%s : %.2f\" % (class_names[classid],score)\n",
        "        cv2.rectangle(img,box,color=(255, 200, 10),thickness=2)\n",
        "        cv2.putText(img, label, (box[0],box[1]-10),cv2.FONT_HERSHEY_SIMPLEX,0.6,(25,55,255),2)\n",
        "cv2_imshow(img)"
      ]
    },
    {
      "cell_type": "code",
      "execution_count": null,
      "metadata": {},
      "outputs": [],
      "source": []
    }
  ],
  "metadata": {
    "accelerator": "GPU",
    "colab": {
      "gpuType": "T4",
      "provenance": []
    },
    "kernelspec": {
      "display_name": "Python 3",
      "name": "python3"
    },
    "language_info": {
      "codemirror_mode": {
        "name": "ipython",
        "version": 3
      },
      "file_extension": ".py",
      "mimetype": "text/x-python",
      "name": "python",
      "nbconvert_exporter": "python",
      "pygments_lexer": "ipython3",
      "version": "3.11.3"
    }
  },
  "nbformat": 4,
  "nbformat_minor": 0
}
