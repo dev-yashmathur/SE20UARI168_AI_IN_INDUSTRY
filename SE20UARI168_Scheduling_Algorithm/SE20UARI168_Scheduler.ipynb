{
 "cells": [
  {
   "cell_type": "code",
   "execution_count": 37,
   "metadata": {},
   "outputs": [],
   "source": [
    "import copy"
   ]
  },
  {
   "cell_type": "code",
   "execution_count": 51,
   "metadata": {},
   "outputs": [],
   "source": [
    "class Item:\n",
    "    def __init__(self, label, arrival_time, time_taken, priority):\n",
    "        self.label = label\n",
    "        self.arrival_time = arrival_time\n",
    "        self.time_left = time_taken\n",
    "        self.priority = priority\n",
    "        self.end_time = -1\n",
    "        self.burst_time = time_taken\n",
    "\n",
    "    def printItem(self):\n",
    "        print(self.label, self.arrival_time, self.time_left, self.priority, self.end_time, self.burst_time)"
   ]
  },
  {
   "cell_type": "code",
   "execution_count": 41,
   "metadata": {},
   "outputs": [],
   "source": [
    "def fcfs(items):\n",
    "    items.sort(key=lambda x: x.arrival_time)\n",
    "    current_time = 0\n",
    "    exec_order = []\n",
    "    turnaround_time = 0\n",
    "    waiting_time = 0\n",
    "    for item in items:\n",
    "        if item.arrival_time > current_time:\n",
    "            current_time = item.arrival_time\n",
    "        exec_order.append((item.label, current_time))\n",
    "        item.end_time = current_time + item.time_left\n",
    "        turnaround_time += item.end_time - item.arrival_time\n",
    "        waiting_time += current_time - item.arrival_time\n",
    "        item.time_left = 0\n",
    "        current_time = item.end_time\n",
    "    \n",
    "    print(\"Execution order: \", exec_order)\n",
    "    print(\"Avg Turnaround Time: \", turnaround_time/len(items))\n",
    "    print(\"Avg waiting Time: \", waiting_time/len(items))"
   ]
  },
  {
   "cell_type": "code",
   "execution_count": 42,
   "metadata": {},
   "outputs": [],
   "source": [
    "def sjf(items):\n",
    "    items.sort(key=lambda x: x.arrival_time)\n",
    "    current_time = 0\n",
    "    exec_order = []\n",
    "    turnaround_time = 0\n",
    "    waiting_time = 0\n",
    "    last_arrival = max(items, key=lambda x: x.arrival_time)\n",
    "    last_arrival = last_arrival.arrival_time\n",
    "\n",
    "    while True:\n",
    "        eligible_items = [item for item in items if item.arrival_time <= current_time and item.time_left > 0]\n",
    "\n",
    "        if not eligible_items and current_time > last_arrival:\n",
    "            break\n",
    "\n",
    "        shortest_item = min(eligible_items, key=lambda x: x.time_left)\n",
    "\n",
    "        if(len(exec_order) == 0 or (exec_order[-1][0] != shortest_item.label)):\n",
    "            exec_order.append((shortest_item.label, current_time))\n",
    "        \n",
    "        shortest_item.time_left -= 1\n",
    "        current_time += 1\n",
    "        if(shortest_item.time_left == 0):\n",
    "            shortest_item.end_time = current_time\n",
    "            waiting_time += shortest_item.end_time - shortest_item.arrival_time - shortest_item.burst_time\n",
    "            turnaround_time += shortest_item.end_time - shortest_item.arrival_time\n",
    "    \n",
    "    print(\"Execution order: \", exec_order)\n",
    "    print(\"Avg Turnaround Time: \", turnaround_time/len(items))\n",
    "    print(\"Avg waiting Time: \", waiting_time/len(items))"
   ]
  },
  {
   "cell_type": "code",
   "execution_count": 54,
   "metadata": {},
   "outputs": [],
   "source": [
    "def rr(items, time_quantum):\n",
    "    items.sort(key=lambda x: x.arrival_time)\n",
    "    current_time = 0\n",
    "    exec_order = []\n",
    "    turnaround_time = 0\n",
    "    waiting_time = 0\n",
    "    last_arrival = max(items, key=lambda x: x.arrival_time)\n",
    "    last_arrival = last_arrival.arrival_time\n",
    "\n",
    "    while True:\n",
    "        eligible_items = [item for item in items if item.arrival_time <= current_time and item.time_left > 0]\n",
    "\n",
    "        if not eligible_items and current_time > last_arrival:\n",
    "            break\n",
    "        \n",
    "        item = max(eligible_items, key=lambda x: x.priority)\n",
    "        exec_order.append((item.label, current_time))\n",
    "\n",
    "        step_time =  min(time_quantum, item.time_left)\n",
    "        current_time += step_time\n",
    "        item.time_left -= step_time\n",
    "        if(item.time_left == 0):\n",
    "            item.printItem\n",
    "            item.end_time = current_time\n",
    "            waiting_time += item.end_time - item.arrival_time - item.burst_time\n",
    "            turnaround_time += item.end_time - item.arrival_time\n",
    "        \n",
    "    print(\"Execution order: \", exec_order)\n",
    "    print(\"Avg Turnaround Time: \", turnaround_time/len(items))\n",
    "    print(\"Avg waiting Time: \", waiting_time/len(items))\n",
    "    "
   ]
  },
  {
   "cell_type": "code",
   "execution_count": 55,
   "metadata": {},
   "outputs": [
    {
     "name": "stdout",
     "output_type": "stream",
     "text": [
      "FCFS: \n",
      "Execution order:  [('P1', 0), ('P2', 24), ('P3', 27), ('P4', 30)]\n",
      "Avg Turnaround Time:  27.0\n",
      "Avg waiting Time:  16.5\n",
      "\n",
      "SJF (Preemptive): \n",
      "Execution order:  [('P1', 0), ('P2', 4), ('P3', 7), ('P4', 10), ('P1', 22)]\n",
      "Avg Turnaround Time:  16.5\n",
      "Avg waiting Time:  6.0\n",
      "\n",
      "RR (Non Preemptive): \n",
      "Execution order:  [('P1', 0), ('P1', 4), ('P3', 8), ('P1', 11), ('P1', 15), ('P1', 19), ('P1', 23), ('P4', 27), ('P4', 31), ('P4', 35), ('P2', 39)]\n",
      "Avg Turnaround Time:  26.0\n",
      "Avg waiting Time:  15.5\n"
     ]
    }
   ],
   "source": [
    "items = [\n",
    "    Item(\"P1\", 0, 24, 3),\n",
    "    Item(\"P2\", 4, 3, 1),\n",
    "    Item(\"P3\", 5, 3, 4),\n",
    "    Item(\"P4\", 6, 12, 2),\n",
    "]\n",
    "print(\"FCFS: \")\n",
    "fcfs(copy.deepcopy(items))\n",
    "\n",
    "print(\"\\nSJF (Preemptive): \")\n",
    "sjf(copy.deepcopy(items))\n",
    "\n",
    "print(\"\\nRR (Non Preemptive): \")\n",
    "rr(copy.deepcopy(items), 4)"
   ]
  },
  {
   "cell_type": "code",
   "execution_count": null,
   "metadata": {},
   "outputs": [],
   "source": []
  },
  {
   "cell_type": "code",
   "execution_count": null,
   "metadata": {},
   "outputs": [],
   "source": []
  },
  {
   "cell_type": "code",
   "execution_count": null,
   "metadata": {},
   "outputs": [],
   "source": []
  },
  {
   "cell_type": "code",
   "execution_count": null,
   "metadata": {},
   "outputs": [],
   "source": []
  },
  {
   "cell_type": "code",
   "execution_count": null,
   "metadata": {},
   "outputs": [],
   "source": []
  }
 ],
 "metadata": {
  "kernelspec": {
   "display_name": "Python 3",
   "language": "python",
   "name": "python3"
  },
  "language_info": {
   "codemirror_mode": {
    "name": "ipython",
    "version": 3
   },
   "file_extension": ".py",
   "mimetype": "text/x-python",
   "name": "python",
   "nbconvert_exporter": "python",
   "pygments_lexer": "ipython3",
   "version": "3.11.0"
  },
  "orig_nbformat": 4
 },
 "nbformat": 4,
 "nbformat_minor": 2
}
